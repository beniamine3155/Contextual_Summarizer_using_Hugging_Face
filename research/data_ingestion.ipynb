{
 "cells": [
  {
   "cell_type": "code",
   "execution_count": 13,
   "id": "9d38fc11",
   "metadata": {},
   "outputs": [
    {
     "data": {
      "text/plain": [
       "'/Users/beniaminenahid/Desktop/Contextual_Summarizer_using_Hugging_Face'"
      ]
     },
     "execution_count": 13,
     "metadata": {},
     "output_type": "execute_result"
    }
   ],
   "source": [
    "import os\n",
    "%pwd"
   ]
  },
  {
   "cell_type": "code",
   "execution_count": 3,
   "id": "b1c3837f",
   "metadata": {},
   "outputs": [
    {
     "data": {
      "text/plain": [
       "'/Users/beniaminenahid/Desktop/Contextual_Summarizer_using_Hugging_Face'"
      ]
     },
     "execution_count": 3,
     "metadata": {},
     "output_type": "execute_result"
    }
   ],
   "source": [
    "# os.chdir(\"../\")\n",
    "# %pwd"
   ]
  },
  {
   "cell_type": "markdown",
   "id": "75f75b87",
   "metadata": {},
   "source": [
    "### Basic Congiguration"
   ]
  },
  {
   "cell_type": "code",
   "execution_count": 4,
   "id": "15a9c47c",
   "metadata": {},
   "outputs": [],
   "source": [
    "from dataclasses import dataclass\n",
    "from pathlib import Path\n",
    "\n",
    "@dataclass\n",
    "class DataIngestionConfig:\n",
    "    root_dir: Path\n",
    "    source_URL: Path\n",
    "    local_data_file: Path\n",
    "    unzip_dir: Path"
   ]
  },
  {
   "cell_type": "code",
   "execution_count": 18,
   "id": "a61e849f",
   "metadata": {},
   "outputs": [],
   "source": [
    "from src.Contextual_Summarizer.constants import CONFIG_FILE_PATH, PARAMS_FILE_PATH\n",
    "from src.Contextual_Summarizer.utils.common import read_yaml, create_directories"
   ]
  },
  {
   "cell_type": "markdown",
   "id": "8fd5b8b0",
   "metadata": {},
   "source": [
    "### Configuration Update"
   ]
  },
  {
   "cell_type": "code",
   "execution_count": null,
   "id": "4232229b",
   "metadata": {},
   "outputs": [],
   "source": [
    "class ConfigurationManager:\n",
    "    def __init__(self, congig_path=CONFIG_FILE_PATH, params_path=PARAMS_FILE_PATH):\n",
    "        self.config = read_yaml(congig_path)\n",
    "        self.params = read_yaml(params_path)\n",
    "        \n",
    "        create_directories([self.config.artifacts_root])\n",
    "\n",
    "    def get_data_ingestion_config(self) -> DataIngestionConfig:\n",
    "        config = self.config.data_ingestion\n",
    "        \n",
    "        create_directories([config.root_dir])\n",
    "        \n",
    "        \n",
    "        data_ingestion_config = DataIngestionConfig(\n",
    "            root_dir=config.root_dir,\n",
    "            local_data_file=config.local_data_file,\n",
    "            unzip_dir=config.unzip_dir\n",
    "        )\n",
    "\n",
    "        return data_ingestion_config"
   ]
  },
  {
   "cell_type": "code",
   "execution_count": 23,
   "id": "b52f12de",
   "metadata": {},
   "outputs": [],
   "source": [
    "import os\n",
    "import urllib.request as request\n",
    "import zipfile\n",
    "from src.Contextual_Summarizer.logging import logger"
   ]
  },
  {
   "cell_type": "markdown",
   "id": "c83f4615",
   "metadata": {},
   "source": [
    "### Components"
   ]
  },
  {
   "cell_type": "code",
   "execution_count": 25,
   "id": "e77ea5a9",
   "metadata": {},
   "outputs": [],
   "source": [
    "class DataIngestion:\n",
    "    def __init__(self, config: DataIngestionConfig):\n",
    "        self.config = config\n",
    "\n",
    "    def download_file(self):\n",
    "        if not os.path.exists(self.config.local_data_file):\n",
    "            file_name, headers = request.urlretrieve(\n",
    "                url = self.config.source_URL,\n",
    "                filename = self.config.local_data_file\n",
    "            )\n",
    "            logger.info(f\"Downloaded file from {self.config.source_URL} to {file_name}.\")\n",
    "        else:\n",
    "            logger.info(f\"Data file already exists at {self.config.local_data_file}. Skipping download.\")\n",
    "\n",
    "    def extract_zip_file(self):\n",
    "        unzip_path = self.config.unzip_dir\n",
    "        os.makedirs(unzip_path, exist_ok=True)\n",
    "        with zipfile.ZipFile(self.config.local_data_file, 'r') as zip_ref:\n",
    "            zip_ref.extractall(unzip_path)"
   ]
  },
  {
   "cell_type": "code",
   "execution_count": 26,
   "id": "86a9fa43",
   "metadata": {},
   "outputs": [
    {
     "name": "stdout",
     "output_type": "stream",
     "text": [
      "[2025-09-11 12:24:31,194: INFO: common]: yaml file: config/config.yaml loaded successfully\n",
      "[2025-09-11 12:24:31,198: INFO: common]: yaml file: params.yaml loaded successfully\n",
      "[2025-09-11 12:24:31,200: INFO: common]: created directory at: artifacts\n",
      "[2025-09-11 12:24:31,200: INFO: common]: created directory at: artifacts/data_ingestion\n",
      "[2025-09-11 12:24:31,198: INFO: common]: yaml file: params.yaml loaded successfully\n",
      "[2025-09-11 12:24:31,200: INFO: common]: created directory at: artifacts\n",
      "[2025-09-11 12:24:31,200: INFO: common]: created directory at: artifacts/data_ingestion\n",
      "[2025-09-11 12:24:34,697: INFO: 283463372]: Downloaded file from https://github.com/krishnaik06/datasets/raw/refs/heads/main/summarizer-data.zip to artifacts/data_ingestion/data.zip.\n",
      "[2025-09-11 12:24:34,697: INFO: 283463372]: Downloaded file from https://github.com/krishnaik06/datasets/raw/refs/heads/main/summarizer-data.zip to artifacts/data_ingestion/data.zip.\n"
     ]
    }
   ],
   "source": [
    "config=ConfigurationManager()\n",
    "data_ingestion_config=config.get_data_ingestion_config()\n",
    "data_ingestion=DataIngestion(config=data_ingestion_config)\n",
    "\n",
    "data_ingestion.download_file()\n",
    "data_ingestion.extract_zip_file()"
   ]
  },
  {
   "cell_type": "code",
   "execution_count": null,
   "id": "126083e7",
   "metadata": {},
   "outputs": [],
   "source": []
  }
 ],
 "metadata": {
  "kernelspec": {
   "display_name": "venv",
   "language": "python",
   "name": "python3"
  },
  "language_info": {
   "codemirror_mode": {
    "name": "ipython",
    "version": 3
   },
   "file_extension": ".py",
   "mimetype": "text/x-python",
   "name": "python",
   "nbconvert_exporter": "python",
   "pygments_lexer": "ipython3",
   "version": "3.10.0"
  }
 },
 "nbformat": 4,
 "nbformat_minor": 5
}
